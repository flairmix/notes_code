{
 "cells": [
  {
   "cell_type": "code",
   "execution_count": 2,
   "metadata": {},
   "outputs": [
    {
     "data": {
      "text/plain": [
       "True"
      ]
     },
     "execution_count": 2,
     "metadata": {},
     "output_type": "execute_result"
    }
   ],
   "source": [
    "from pyvis.network import Network\n",
    "import webbrowser\n",
    "import os\n",
    "\n",
    "net = Network(width='800px', height='600px', cdn_resources='in_line')\n",
    "\n",
    "# Добавляем узлы\n",
    "net.add_node(1, label='Person')\n",
    "net.add_node(2, label='Student')\n",
    "net.add_node(3, label='JohnDoe')\n",
    "net.add_node(4, label='Course')\n",
    "net.add_node(5, label='Math101')\n",
    "\n",
    "# Добавляем рёбра\n",
    "net.add_edge(1, 2)\n",
    "net.add_edge(2, 3)\n",
    "net.add_edge(2, 4, label='studies')\n",
    "net.add_edge(3, 5)\n",
    "\n",
    "# Генерируем HTML-код отдельно\n",
    "html_content = net.generate_html()\n",
    "\n",
    "# Сохраняем HTML явно с кодировкой UTF-8\n",
    "file_path = 'ontology.html'\n",
    "with open(file_path, 'w', encoding='utf-8') as f:\n",
    "    f.write(html_content)\n",
    "\n",
    "# Открываем автоматически в браузере\n",
    "webbrowser.open('file://' + os.path.realpath(file_path))\n"
   ]
  }
 ],
 "metadata": {
  "kernelspec": {
   "display_name": ".venv",
   "language": "python",
   "name": "python3"
  },
  "language_info": {
   "codemirror_mode": {
    "name": "ipython",
    "version": 3
   },
   "file_extension": ".py",
   "mimetype": "text/x-python",
   "name": "python",
   "nbconvert_exporter": "python",
   "pygments_lexer": "ipython3",
   "version": "3.12.9"
  }
 },
 "nbformat": 4,
 "nbformat_minor": 2
}
