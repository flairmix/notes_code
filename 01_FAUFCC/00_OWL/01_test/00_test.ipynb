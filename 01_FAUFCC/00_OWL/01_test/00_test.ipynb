{
 "cells": [
  {
   "cell_type": "code",
   "execution_count": null,
   "metadata": {},
   "outputs": [],
   "source": [
    "from OntologyBuilder.OntologyBuilder import OntologyBuilder\n",
    "import webbrowser\n",
    "import os \n",
    "\n",
    "ob = OntologyBuilder()\n",
    "\n",
    "# 1. Создание классов и иерархии\n",
    "person_class = ob.add_class(\"Person\")\n",
    "ob.add_class(\"Student\", parent_class=person_class)\n",
    "ob.add_class(\"Teacher\", parent_class=person_class)\n",
    "ob.add_class(\"Course\")\n",
    "ob.add_class(\"University\")\n",
    "\n",
    "# 2. Создание объектных свойств\n",
    "ob.add_object_property(\"studies\", \"Student\", \"Course\")\n",
    "ob.add_object_property(\"teaches\", \"Teacher\", \"Course\")\n",
    "ob.add_object_property(\"enrolled_at\", \"Student\", \"University\")\n",
    "ob.add_object_property(\"works_at\", \"Teacher\", \"University\")\n",
    "\n",
    "# 3. Создание индивидуумов\n",
    "student1 = ob.add_individual(\"Student\", \"Alice\")\n",
    "student2 = ob.add_individual(\"Student\", \"Bob\")\n",
    "teacher = ob.add_individual(\"Teacher\", \"Dr_Smith\")\n",
    "course1 = ob.add_individual(\"Course\", \"Math101\")\n",
    "course2 = ob.add_individual(\"Course\", \"Physics101\")\n",
    "university = ob.add_individual(\"University\", \"UniXYZ\")\n",
    "\n",
    "# 4. Связывание индивидуумов\n",
    "ob.relate_individuals(student1, \"studies\", course1)\n",
    "ob.relate_individuals(student2, \"studies\", course2)\n",
    "ob.relate_individuals(student1, \"enrolled_at\", university)\n",
    "ob.relate_individuals(student2, \"enrolled_at\", university)\n",
    "ob.relate_individuals(teacher, \"teaches\", course1)\n",
    "ob.relate_individuals(teacher, \"teaches\", course2)\n",
    "ob.relate_individuals(teacher, \"works_at\", university)\n",
    "\n",
    "# 5. Сохранение и визуализация онтологии\n",
    "ob.save_and_visualize(\"university_ontology.owl\", \"university_ontology.html\")\n",
    "\n"
   ]
  },
  {
   "cell_type": "code",
   "execution_count": null,
   "metadata": {},
   "outputs": [],
   "source": []
  }
 ],
 "metadata": {
  "kernelspec": {
   "display_name": ".venv",
   "language": "python",
   "name": "python3"
  },
  "language_info": {
   "codemirror_mode": {
    "name": "ipython",
    "version": 3
   },
   "file_extension": ".py",
   "mimetype": "text/x-python",
   "name": "python",
   "nbconvert_exporter": "python",
   "pygments_lexer": "ipython3",
   "version": "3.12.9"
  }
 },
 "nbformat": 4,
 "nbformat_minor": 2
}
