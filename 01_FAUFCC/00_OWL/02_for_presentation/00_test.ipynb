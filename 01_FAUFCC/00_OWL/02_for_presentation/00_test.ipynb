{
 "cells": [
  {
   "cell_type": "code",
   "execution_count": 1,
   "metadata": {},
   "outputs": [],
   "source": [
    "from OntologyBuilder.OntologyBuilder import OntologyBuilder\n",
    "import webbrowser\n",
    "import os \n",
    "\n",
    "# Ширину полотна входной двери в квартиру следует принимать не менее 0,9 м. \n",
    "# Ширину дверного проема санитарно-гигиенических помещений, межкомнатных и балконных дверей следует принимать не менее 0,80 м.\n",
    "\n",
    "ob = OntologyBuilder()\n",
    "\n",
    "# Создание классов и иерархии\n",
    "apartment = ob.add_class(\"Квартира\")\n",
    "door_class = ob.add_class(\"Дверь\")\n",
    "width_class = ob.add_class(\"Ширина\")\n",
    "door_leaf = ob.add_class(\"Дверное полотно\", parent_class=door_class)\n",
    "\n",
    "# Создание подклассов ширины\n",
    "width_less_0_9 = ob.add_class(\"Ширина_менее_0_9м\", parent_class=width_class)\n",
    "width_0_9_or_more = ob.add_class(\"Ширина_0_9м_и_более\", parent_class=width_class)\n",
    "width_0_8_or_more = ob.add_class(\"Ширина_0_8м_и_более\", parent_class=width_class)\n",
    "\n",
    "# Создание объектных свойств\n",
    "ob.add_object_property(\"имеет дверь\", \"Квартира\", \"Дверь\")\n",
    "ob.add_object_property(\"имеет_ширину\", \"Дверное полотно\", \"Ширина\")\n",
    "ob.add_object_property(\"имеет_полотно\", \"Дверь\", \"Дверное полотно\")\n",
    "\n",
    "# Создание индивидуумов\n",
    "apartment_instance_1 = ob.add_individual(\"Квартира\", \"Тип квартиры №1\")\n",
    "apartment_instance_2 = ob.add_individual(\"Квартира\", \"Тип квартиры №2\")\n",
    "door_1 = ob.add_individual(\"Дверь\", \"Входная дверь\")\n",
    "# door_2 = ob.add_individual(\"Дверь\", \"Дверь санитарно-гигиенических помещений\")\n",
    "# door_3 = ob.add_individual(\"Дверь\", \"Дверь межкомнатная\")\n",
    "# door_4 = ob.add_individual(\"Дверь\", \"Дверь балконная\")\n",
    "door_leaf_instance = ob.add_individual(\"Дверное полотно\", \"ПолотноДвери\")\n",
    "width_instance = ob.add_individual(\"Ширина_0_9м_и_более\", \"ШиринаПолотнаДвери\")\n",
    "\n",
    "# Связывание индивидуумов\n",
    "ob.relate_individuals(apartment_instance_1, \"имеет дверь\", door_1)\n",
    "# ob.relate_individuals(apartment_instance_1, \"имеет дверь\", door_2)\n",
    "# ob.relate_individuals(apartment_instance_1, \"имеет дверь\", door_3)\n",
    "# ob.relate_individuals(apartment_instance_1, \"имеет дверь\", door_4)\n",
    "ob.relate_individuals(apartment_instance_2, \"имеет дверь\", door_1)\n",
    "ob.relate_individuals(door_1, \"имеет_полотно\", door_leaf_instance)\n",
    "ob.relate_individuals(door_leaf_instance, \"имеет_ширину\", width_instance)\n",
    "\n",
    "# Сохранение и визуализация онтологии\n",
    "ob.save_and_visualize(\"test.owl\", \"test.html\")"
   ]
  }
 ],
 "metadata": {
  "kernelspec": {
   "display_name": ".venv",
   "language": "python",
   "name": "python3"
  },
  "language_info": {
   "codemirror_mode": {
    "name": "ipython",
    "version": 3
   },
   "file_extension": ".py",
   "mimetype": "text/x-python",
   "name": "python",
   "nbconvert_exporter": "python",
   "pygments_lexer": "ipython3",
   "version": "3.12.9"
  }
 },
 "nbformat": 4,
 "nbformat_minor": 2
}
