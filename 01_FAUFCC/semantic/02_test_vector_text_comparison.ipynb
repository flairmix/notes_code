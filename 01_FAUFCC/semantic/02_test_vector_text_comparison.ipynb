{
 "cells": [
  {
   "cell_type": "markdown",
   "metadata": {},
   "source": [
    "## Тест для сравнения двух векторизованных представлений предложений"
   ]
  },
  {
   "cell_type": "code",
   "execution_count": null,
   "metadata": {},
   "outputs": [],
   "source": [
    "import time\n",
    "from sentence_transformers import SentenceTransformer, util\n"
   ]
  },
  {
   "cell_type": "code",
   "execution_count": null,
   "metadata": {},
   "outputs": [],
   "source": [
    "class TextComparator:\n",
    "    def __init__(self, model_name: str = \"sentence-transformers/paraphrase-multilingual-mpnet-base-v2\"):\n",
    "        \"\"\"\n",
    "        Конструктор, загружает модель один раз и хранит её в self.model.\n",
    "        \"\"\"\n",
    "        start_time = time.time()\n",
    "        self.model = SentenceTransformer(model_name)\n",
    "        self.load_time = time.time() - start_time  # Время, затраченное на загрузку модели\n",
    "\n",
    "\n",
    "    def compare_texts(self, text1: str, text2: str) -> dict:\n",
    "        \"\"\"\n",
    "        Сравнивает два текста (text1, text2), возвращая детальную статистику:\n",
    "        - сходство (cosine similarity),\n",
    "        - время, затраченное на кодировку каждого текста,\n",
    "        - время на вычисление сходства,\n",
    "        - итоговое затраченное время,\n",
    "        - размеры эмбеддингов.\n",
    "        \"\"\"\n",
    "\n",
    "        total_start = time.time()\n",
    "\n",
    "        # --- Кодировка text1 ---\n",
    "        encode1_start = time.time()\n",
    "        embedding1 = self.model.encode(text1, convert_to_tensor=True)\n",
    "        encode1_end = time.time()\n",
    "\n",
    "        # --- Кодировка text2 ---\n",
    "        encode2_start = time.time()\n",
    "        embedding2 = self.model.encode(text2, convert_to_tensor=True)\n",
    "        encode2_end = time.time()\n",
    "\n",
    "        # --- Вычисление сходства ---\n",
    "        similarity_start = time.time()\n",
    "        similarity = util.pytorch_cos_sim(embedding1, embedding2).item()\n",
    "        similarity_end = time.time()\n",
    "\n",
    "        total_end = time.time()\n",
    "\n",
    "        # Формируем детальный отчёт\n",
    "        report = {\n",
    "            \"text1\": text1,\n",
    "            \"text2\": text2,\n",
    "            \"similarity\": similarity,\n",
    "            \n",
    "            \"embedding1_shape\": tuple(embedding1.shape),\n",
    "            \"embedding2_shape\": tuple(embedding2.shape),\n",
    "            \n",
    "            \"time_encoding_text1\": encode1_end - encode1_start,\n",
    "            \"time_encoding_text2\": encode2_end - encode2_start,\n",
    "            \"time_similarity_calc\": similarity_end - similarity_start,\n",
    "            \n",
    "            \"total_time_compare\": total_end - total_start,\n",
    "            \"model_load_time\": self.load_time,  # Время загрузки модели (из конструктора)\n",
    "        }\n",
    "\n",
    "        return report"
   ]
  },
  {
   "cell_type": "code",
   "execution_count": null,
   "metadata": {},
   "outputs": [],
   "source": [
    "comparator = TextComparator()\n"
   ]
  },
  {
   "cell_type": "code",
   "execution_count": null,
   "metadata": {},
   "outputs": [],
   "source": [
    "texts_to_compare = [\n",
    "    (\"Лестница наружная, используемая для эвакуации\", \"Эвакуационная наружная лестница\"),\n",
    "    (\"Кошка сидит на окне\", \"На окне кошка сидит\")\n",
    "]\n",
    "\n",
    "for t1, t2 in texts_to_compare:\n",
    "    result = comparator.compare_texts(t1, t2)\n",
    "    print(\"—\" * 60)\n",
    "    print(f\"Сравнение:\\n  1) {t1}\\n  2) {t2}\\n\")\n",
    "    for key, value in result.items():\n",
    "        print(f\"{key}: {value}\")\n",
    "    print()"
   ]
  }
 ],
 "metadata": {
  "kernelspec": {
   "display_name": ".venv",
   "language": "python",
   "name": "python3"
  },
  "language_info": {
   "codemirror_mode": {
    "name": "ipython",
    "version": 3
   },
   "file_extension": ".py",
   "mimetype": "text/x-python",
   "name": "python",
   "nbconvert_exporter": "python",
   "pygments_lexer": "ipython3",
   "version": "3.12.9"
  }
 },
 "nbformat": 4,
 "nbformat_minor": 2
}
