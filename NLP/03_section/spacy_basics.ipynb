{
 "cells": [
  {
   "cell_type": "code",
   "execution_count": 1,
   "metadata": {},
   "outputs": [],
   "source": [
    "import spacy"
   ]
  },
  {
   "cell_type": "markdown",
   "metadata": {},
   "source": [
    "```\n",
    "uv pip install https://github.com/explosion/spacy-models/releases/download/en_core_web_sm-3.8.0/en_core_web_sm-3.8.0.tar.gz\n",
    "```"
   ]
  },
  {
   "cell_type": "code",
   "execution_count": null,
   "metadata": {},
   "outputs": [],
   "source": [
    "nlp = spacy.load(\"en_core_web_sm\")"
   ]
  },
  {
   "cell_type": "code",
   "execution_count": null,
   "metadata": {},
   "outputs": [],
   "source": [
    "doc = nlp(u'Tesla is looking at buying U.S. startup for $6 million')"
   ]
  },
  {
   "cell_type": "markdown",
   "metadata": {},
   "source": [
    ".pos_ - Part of speech\n",
    "\n",
    ".dep_ - Dependency"
   ]
  },
  {
   "cell_type": "code",
   "execution_count": null,
   "metadata": {},
   "outputs": [
    {
     "name": "stdout",
     "output_type": "stream",
     "text": [
      "Tesla PROPN nsubj\n",
      "is AUX aux\n",
      "looking VERB ROOT\n",
      "at ADP prep\n",
      "buying VERB pcomp\n",
      "U.S. PROPN dobj\n",
      "startup VERB advcl\n",
      "for ADP prep\n",
      "$ SYM quantmod\n",
      "6 NUM compound\n",
      "million NUM pobj\n"
     ]
    }
   ],
   "source": [
    "for token in doc:\n",
    "    print(token.text, token.pos_, token.dep_)"
   ]
  },
  {
   "cell_type": "code",
   "execution_count": 7,
   "metadata": {},
   "outputs": [
    {
     "data": {
      "text/plain": [
       "[('tok2vec', <spacy.pipeline.tok2vec.Tok2Vec at 0x177deeca810>),\n",
       " ('tagger', <spacy.pipeline.tagger.Tagger at 0x177deec9bb0>),\n",
       " ('parser', <spacy.pipeline.dep_parser.DependencyParser at 0x177def76110>),\n",
       " ('attribute_ruler',\n",
       "  <spacy.pipeline.attributeruler.AttributeRuler at 0x177df1df250>),\n",
       " ('lemmatizer', <spacy.lang.en.lemmatizer.EnglishLemmatizer at 0x177df1d3e10>),\n",
       " ('ner', <spacy.pipeline.ner.EntityRecognizer at 0x177def763b0>)]"
      ]
     },
     "execution_count": 7,
     "metadata": {},
     "output_type": "execute_result"
    }
   ],
   "source": [
    "nlp.pipeline"
   ]
  },
  {
   "cell_type": "code",
   "execution_count": 9,
   "metadata": {},
   "outputs": [
    {
     "data": {
      "text/plain": [
       "['tok2vec', 'tagger', 'parser', 'attribute_ruler', 'lemmatizer', 'ner']"
      ]
     },
     "execution_count": 9,
     "metadata": {},
     "output_type": "execute_result"
    }
   ],
   "source": [
    "nlp.pipe_names"
   ]
  },
  {
   "cell_type": "code",
   "execution_count": 10,
   "metadata": {},
   "outputs": [],
   "source": [
    "doc2 = nlp(u\"Tesla isn't looking into startups anymore.\")"
   ]
  },
  {
   "cell_type": "code",
   "execution_count": 11,
   "metadata": {},
   "outputs": [
    {
     "name": "stdout",
     "output_type": "stream",
     "text": [
      "Tesla PROPN nsubj\n",
      "is AUX aux\n",
      "n't PART neg\n",
      "looking VERB ROOT\n",
      "into ADP prep\n",
      "startups NOUN pobj\n",
      "anymore ADV advmod\n",
      ". PUNCT punct\n"
     ]
    }
   ],
   "source": [
    "for token in doc2:\n",
    "    print(token.text, token.pos_, token.dep_)"
   ]
  },
  {
   "cell_type": "code",
   "execution_count": null,
   "metadata": {},
   "outputs": [],
   "source": [
    "doc3 = nlp(u'Although commonly attributed to John Lennon from his song \"Beautiful Boy,\" \\\n",
    "           the phrase \"Life is what happens when you are busy making other plans\" \\\n",
    "           has been used in various forms by other authors and public figures throughout history.')"
   ]
  },
  {
   "cell_type": "code",
   "execution_count": 15,
   "metadata": {},
   "outputs": [
    {
     "name": "stdout",
     "output_type": "stream",
     "text": [
      "phrase \"Life is what happens when you are busy making other plans\"\n",
      "<class 'spacy.tokens.span.Span'>\n"
     ]
    }
   ],
   "source": [
    "life_quote = doc3[16:30]\n",
    "print(life_quote)\n",
    "print(type(life_quote))"
   ]
  },
  {
   "cell_type": "code",
   "execution_count": 18,
   "metadata": {},
   "outputs": [],
   "source": [
    "doc4 = nlp(u'This is the first sentence. This is another sentence. This is the last sentence.')"
   ]
  },
  {
   "cell_type": "code",
   "execution_count": 20,
   "metadata": {},
   "outputs": [
    {
     "name": "stdout",
     "output_type": "stream",
     "text": [
      "This is the first sentence.\n",
      "This is another sentence.\n",
      "This is the last sentence.\n"
     ]
    }
   ],
   "source": [
    "for sentence in doc4.sents:\n",
    "    print(sentence)"
   ]
  },
  {
   "cell_type": "code",
   "execution_count": 30,
   "metadata": {},
   "outputs": [
    {
     "name": "stdout",
     "output_type": "stream",
     "text": [
      "True\n",
      "True\n"
     ]
    }
   ],
   "source": [
    "print(doc4[6].is_sent_start)\n",
    "print(doc4[5].is_sent_end)"
   ]
  },
  {
   "cell_type": "markdown",
   "metadata": {},
   "source": [
    "В библиотеке **spaCy** используются три типа тегов для обработки текста:\n",
    "\n",
    "1. **POS-теги** (части речи) — общее обозначение типа слова.\n",
    "2. **TAG-теги** (морфологические признаки) — более детализированная информация о слове.\n",
    "3. **DEP-теги** (синтаксические зависимости) — связь слова с другими словами в предложении.\n",
    "\n",
    "Я разберу все три категории с примерами на русском языке.\n",
    "\n",
    "---\n",
    "\n",
    "## **1. POS-теги (Части речи)**\n",
    "Это общий класс слова, например, глагол, существительное, местоимение и т. д.\n",
    "\n",
    "| POS-тег | Полное название | Описание | Примеры (англ.) | Примеры (рус.) |\n",
    "|---------|---------------|----------|-----------------|----------------|\n",
    "| `ADJ` | Adjective | Прилагательное | *beautiful, easy, fast* | *красивый, лёгкий, быстрый* |\n",
    "| `ADP` | Adposition | Предлог или послелог | *in, on, under, without* | *в, на, под, без* |\n",
    "| `ADV` | Adverb | Наречие | *quickly, very, well* | *быстро, очень, хорошо* |\n",
    "| `AUX` | Auxiliary verb | Вспомогательный глагол | *is, have, will* | *(быть, есть – в значении вспомогательного глагола, было бы)* |\n",
    "| `CCONJ` | Coordinating conjunction | Сочинительный союз | *and, but, or* | *и, но, или* |\n",
    "| `DET` | Determiner | Определитель (артикль, указательные слова) | *the, a, this* | *(этот, та, те)* |\n",
    "| `INTJ` | Interjection | Междометие | *wow, oh, hey* | *ух, ой, эй* |\n",
    "| `NOUN` | Noun | Существительное | *dog, house, idea* | *собака, дом, идея* |\n",
    "| `NUM` | Numeral | Числительное | *one, two, first, second* | *один, два, первый, второй* |\n",
    "| `PART` | Particle | Частица | *not, 's, to (в инфинитиве)* | *не, бы, же* |\n",
    "| `PRON` | Pronoun | Местоимение | *I, you, he, she, it* | *я, ты, он, она, это* |\n",
    "| `PROPN` | Proper noun | Имя собственное | *London, John, Tesla* | *Москва, Иван, Яндекс* |\n",
    "| `PUNCT` | Punctuation | Знаки препинания | *., !, ?, -* | *., !, ?, -* |\n",
    "| `SCONJ` | Subordinating conjunction | Подчинительный союз | *if, because, although* | *если, потому что, хотя* |\n",
    "| `SYM` | Symbol | Символы | *$, %, +, =* | *$, %, +, =* |\n",
    "| `VERB` | Verb | Глагол | *run, eat, speak* | *бежать, есть, говорить* |\n",
    "| `X` | Other | Другое (неизвестные или нерегулярные слова) | *неопознанные символы, иностранные слова* | *неизвестные или заимствованные слова* |\n",
    "\n",
    "---\n",
    "\n",
    "## **2. TAG-теги (Морфологические признаки)**\n",
    "\n",
    "Эти теги дают более детальную информацию о слове, например, время глагола, падеж существительного и т. д.\n",
    "\n",
    "| TAG-тег | Описание | Примеры |\n",
    "|---------|----------|---------|\n",
    "| `NOUN__Animacy=Anim` | Одушевленное существительное | *человек, собака* |\n",
    "| `NOUN__Animacy=Inan` | Неодушевленное существительное | *стол, компьютер* |\n",
    "| `ADJ__Degree=Pos` | Прилагательное, положительная степень | *большой, красивый* |\n",
    "| `ADJ__Degree=Cmp` | Прилагательное, сравнительная степень | *больше, красивее* |\n",
    "| `ADJ__Degree=Sup` | Прилагательное, превосходная степень | *самый большой, красивейший* |\n",
    "| `VERB__Tense=Past` | Глагол в прошедшем времени | *бежал, сказал* |\n",
    "| `VERB__Tense=Pres` | Глагол в настоящем времени | *бежит, говорит* |\n",
    "| `VERB__Tense=Fut` | Глагол в будущем времени | *будет бежать, скажет* |\n",
    "| `NUM__Case=Nom` | Числительное в именительном падеже | *один, два* |\n",
    "| `PRON__Person=1` | Личное местоимение 1-го лица | *я, мы* |\n",
    "| `PRON__Person=2` | Личное местоимение 2-го лица | *ты, вы* |\n",
    "| `PRON__Person=3` | Личное местоимение 3-го лица | *он, она, оно* |\n",
    "\n",
    "Для анализа морфологических тегов можно использовать `token.morph`:\n",
    "```python\n",
    "import spacy\n",
    "\n",
    "nlp = spacy.load(\"ru_core_news_sm\")\n",
    "doc = nlp(\"Я видел красивую собаку.\")\n",
    "\n",
    "for token in doc:\n",
    "    print(token.text, \"->\", token.tag_, \"->\", token.morph)\n",
    "```\n",
    "\n",
    "---\n",
    "\n",
    "## **3. DEP-теги (Синтаксические зависимости)**\n",
    "\n",
    "Эти теги показывают, как слова связаны друг с другом в предложении.\n",
    "\n",
    "| DEP-тег | Описание | Примеры |\n",
    "|---------|----------|---------|\n",
    "| `nsubj` | Подлежащее | *Собака лает.* (*Собака* — подлежащее) |\n",
    "| `obj` | Прямое дополнение | *Я читаю книгу.* (*книгу* — объект) |\n",
    "| `iobj` | Косвенное дополнение | *Я дал другу книгу.* (*другу* — косвенное дополнение) |\n",
    "| `root` | Главный глагол в предложении | *Он спит.* (*спит* — главное слово) |\n",
    "| `advmod` | Обстоятельство | *Она говорит быстро.* (*быстро* — обстоятельство) |\n",
    "| `amod` | Определение (прилагательное) | *Красивая кошка спит.* (*Красивая* — определение) |\n",
    "| `cc` | Сочинительный союз | *Я иду и думаю.* (*и* — союз) |\n",
    "| `conj` | Сочиненное слово | *Я иду и думаю.* (*думаю* — сочиненное слово) |\n",
    "| `mark` | Подчинительный союз | *Я знаю, что ты здесь.* (*что* — союз) |\n",
    "| `case` | Предлог | *Он сидит на стуле.* (*на* — предлог) |\n",
    "\n",
    "Пример кода для анализа зависимостей:\n",
    "```python\n",
    "import spacy\n",
    "\n",
    "nlp = spacy.load(\"ru_core_news_sm\")\n",
    "doc = nlp(\"Я люблю программирование.\")\n",
    "\n",
    "for token in doc:\n",
    "    print(token.text, \"->\", token.dep_, \"(\", spacy.explain(token.dep_), \")\")\n",
    "```\n",
    "\n",
    "---\n",
    "\n",
    "## **Вывод**\n",
    "- **POS** — показывает основную часть речи (глагол, существительное и т. д.).\n",
    "- **TAG** — уточняет морфологические характеристики (время, число, падеж и т. д.).\n",
    "- **DEP** — описывает синтаксическую связь слова с другими словами.\n"
   ]
  }
 ],
 "metadata": {
  "kernelspec": {
   "display_name": ".venv",
   "language": "python",
   "name": "python3"
  },
  "language_info": {
   "codemirror_mode": {
    "name": "ipython",
    "version": 3
   },
   "file_extension": ".py",
   "mimetype": "text/x-python",
   "name": "python",
   "nbconvert_exporter": "python",
   "pygments_lexer": "ipython3",
   "version": "3.12.0"
  }
 },
 "nbformat": 4,
 "nbformat_minor": 2
}
