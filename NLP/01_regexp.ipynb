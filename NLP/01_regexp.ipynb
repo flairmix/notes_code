{
 "cells": [
  {
   "cell_type": "code",
   "execution_count": 15,
   "metadata": {},
   "outputs": [],
   "source": [
    "import re"
   ]
  },
  {
   "cell_type": "code",
   "execution_count": 16,
   "metadata": {},
   "outputs": [
    {
     "name": "stdout",
     "output_type": "stream",
     "text": [
      "<re.Match object; span=(35, 40), match='phone'>\n",
      "(35, 40)\n",
      "35\n",
      "40\n"
     ]
    }
   ],
   "source": [
    "text_example = \"This is a simple text example with phone number 123-456-7890 and email mikedon@gmail.com\"\n",
    "pattern = \"phone\"\n",
    "\n",
    "my_match = re.search(pattern, text_example)\n",
    "\n",
    "print(re.search(pattern, text_example))\n",
    "\n",
    "print(my_match.span())\n",
    "print(my_match.start())\n",
    "print(my_match.end())\n"
   ]
  },
  {
   "cell_type": "code",
   "execution_count": null,
   "metadata": {},
   "outputs": [
    {
     "name": "stdout",
     "output_type": "stream",
     "text": [
      "(35, 40)\n",
      "35\n",
      "40\n",
      "(93, 98)\n",
      "93\n",
      "98\n"
     ]
    }
   ],
   "source": [
    "text_example = '''This is a simple text example with phone number\n",
    "123-456-7890 and email mikedon@gmail.com and phone again 123-456-7896'''\n",
    "\n",
    "pattern = \"phone\"\n",
    "\n",
    "# findall returns a list of all matches\n",
    "matches_list = re.findall(pattern, text_example)\n",
    "\n",
    "# finditer returns an iterator of all matches\n",
    "matches_iter = re.finditer(pattern, text_example)\n",
    "\n",
    "\n",
    "for i in matches_iter:\n",
    "    print(i.span())\n",
    "    print(i.start())\n",
    "    print(i.end())  \n"
   ]
  }
 ],
 "metadata": {
  "kernelspec": {
   "display_name": ".venv",
   "language": "python",
   "name": "python3"
  },
  "language_info": {
   "codemirror_mode": {
    "name": "ipython",
    "version": 3
   },
   "file_extension": ".py",
   "mimetype": "text/x-python",
   "name": "python",
   "nbconvert_exporter": "python",
   "pygments_lexer": "ipython3",
   "version": "3.12.0"
  }
 },
 "nbformat": 4,
 "nbformat_minor": 2
}
