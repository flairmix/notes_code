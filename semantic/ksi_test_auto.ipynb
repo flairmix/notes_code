{
 "cells": [
  {
   "cell_type": "code",
   "execution_count": null,
   "metadata": {},
   "outputs": [],
   "source": [
    "import os\n",
    "import pandas as pd\n",
    "import numpy as np\n",
    "import spacy\n",
    "from sklearn.feature_extraction.text import TfidfVectorizer\n",
    "from sklearn.metrics.pairwise import cosine_similarity"
   ]
  },
  {
   "cell_type": "code",
   "execution_count": null,
   "metadata": {},
   "outputs": [],
   "source": [
    "# Загружаем модель SpaCy для русского языка\n",
    "nlp = spacy.load(\"ru_core_news_lg\")"
   ]
  },
  {
   "cell_type": "code",
   "execution_count": null,
   "metadata": {},
   "outputs": [],
   "source": [
    "# Пример классификатора (слова, их категории, определения и группы классификации)\n",
    "classifier = {\n",
    "    \"Документ\": {\"category\": \"Классификатор документа\", \"definition\": \"Официальный текст, содержащий информацию\", \"group\": \"Официальные документы\"},\n",
    "    \"Требования\": {\"category\": \"Классификатор требования\", \"definition\": \"Условия, которым должен соответствовать объект\", \"group\": \"Технические требования\"},\n",
    "    \"Безопасность\": {\"category\": \"Классификатор безопасности\", \"definition\": \"Состояние защищенности от угроз\", \"group\": \"Нормативные акты\"},\n",
    "    \"Строительство\": {\"category\": \"Классификатор строительства\", \"definition\": \"Процесс возведения зданий и сооружений\", \"group\": \"Строительные нормы\"}\n",
    "}"
   ]
  },
  {
   "cell_type": "code",
   "execution_count": null,
   "metadata": {},
   "outputs": [],
   "source": [
    "\n",
    "# Исходный текст\n",
    "text = \"Этот документ описывает требования к безопасности строительства.\""
   ]
  },
  {
   "cell_type": "code",
   "execution_count": null,
   "metadata": {},
   "outputs": [],
   "source": [
    "\n",
    "# Функция предобработки текста с использованием SpaCy\n",
    "def preprocess_text(text):\n",
    "    doc = nlp(text.lower())\n",
    "    tokens = [token.lemma_ for token in doc if token.is_alpha]\n",
    "    return tokens\n",
    "\n",
    "# Разбиваем текст на слова\n",
    "words = preprocess_text(text)\n",
    "\n",
    "# Векторизация: ключевые слова классификатора + слова из текста\n",
    "vectorizer = TfidfVectorizer()\n",
    "all_words = list(classifier.keys()) + words\n",
    "tfidf_matrix = vectorizer.fit_transform(all_words)\n",
    "\n",
    "# Разделяем векторы\n",
    "word_vectors = tfidf_matrix[len(classifier):]  # Вектора слов из текста\n",
    "class_vectors = tfidf_matrix[:len(classifier)]  # Вектора понятий из классификатора\n",
    "\n",
    "# Вычисляем схожесть\n",
    "cosine_similarities = cosine_similarity(word_vectors, class_vectors)\n",
    "\n",
    "# Создаем итоговый список с классификацией каждого слова\n",
    "classified_words = []\n",
    "for i, word in enumerate(words):\n",
    "    max_index = np.argmax(cosine_similarities[i])\n",
    "    max_similarity = cosine_similarities[i, max_index]\n",
    "    \n",
    "    # Если схожесть ниже 0.2 – считаем слово неклассифицированным\n",
    "    if max_similarity >= 0.2:\n",
    "        category_data = classifier[list(classifier.keys())[max_index]]\n",
    "        category = {\"category\": category_data[\"category\"], \"definition\": category_data[\"definition\"], \"group\": category_data[\"group\"]}\n",
    "    else:\n",
    "        category = \"не классифицировано\"\n",
    "    \n",
    "    classified_words.append({word: category})\n",
    "\n",
    "# Итоговый результат\n",
    "result = {text: classified_words}\n",
    "\n",
    "\n",
    "\n"
   ]
  },
  {
   "cell_type": "code",
   "execution_count": null,
   "metadata": {},
   "outputs": [],
   "source": [
    "# Вывод результата в виде таблицы\n",
    "df_result = pd.DataFrame(classified_words)\n",
    "print(df_result)\n"
   ]
  },
  {
   "cell_type": "code",
   "execution_count": null,
   "metadata": {},
   "outputs": [],
   "source": [
    "# Также печатаем JSON-результат\n",
    "import json\n",
    "print(json.dumps(result, ensure_ascii=False, indent=4))"
   ]
  }
 ],
 "metadata": {
  "kernelspec": {
   "display_name": ".venv",
   "language": "python",
   "name": "python3"
  },
  "language_info": {
   "name": "python",
   "version": "3.12.9"
  }
 },
 "nbformat": 4,
 "nbformat_minor": 2
}
