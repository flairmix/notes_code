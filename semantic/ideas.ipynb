{
 "cells": [
  {
   "cell_type": "markdown",
   "metadata": {},
   "source": [
    "### идеи"
   ]
  },
  {
   "cell_type": "markdown",
   "metadata": {},
   "source": [
    "1. Разбиение каждого утверждения из одного требования разбивать на два элемента: \n",
    "    - предпосылку / фильтр  \n",
    "    - следствие / проверку"
   ]
  },
  {
   "cell_type": "code",
   "execution_count": null,
   "metadata": {},
   "outputs": [],
   "source": [
    "sentence_SP1_13130_5_2_1 = \"Уклон наружных открытых лестниц, используемых для эвакуации, в зданиях детских дошкольных учреждений должен составлять не более 45°. Ширину указанных лестниц допускается выполнять не менее 0,8 м.\"\n",
    "\n",
    "\n",
    "if_oks_sentence_mod0 = \"здание детское дошкольное учреждение\"\n",
    "if_sentence_mod1 = \"лестница эвакуационная открытая наружная\"\n",
    "check_sentence_mod2 = \"Уклон лестницы должен быть менее 45 градусов\""
   ]
  },
  {
   "cell_type": "code",
   "execution_count": null,
   "metadata": {},
   "outputs": [],
   "source": []
  },
  {
   "cell_type": "code",
   "execution_count": null,
   "metadata": {},
   "outputs": [],
   "source": []
  },
  {
   "cell_type": "code",
   "execution_count": null,
   "metadata": {},
   "outputs": [],
   "source": []
  }
 ],
 "metadata": {
  "kernelspec": {
   "display_name": ".venv",
   "language": "python",
   "name": "python3"
  },
  "language_info": {
   "codemirror_mode": {
    "name": "ipython",
    "version": 3
   },
   "file_extension": ".py",
   "mimetype": "text/x-python",
   "name": "python",
   "nbconvert_exporter": "python",
   "pygments_lexer": "ipython3",
   "version": "3.12.9"
  }
 },
 "nbformat": 4,
 "nbformat_minor": 2
}
