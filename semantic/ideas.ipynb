{
 "cells": [
  {
   "cell_type": "markdown",
   "metadata": {},
   "source": [
    "### идеи"
   ]
  },
  {
   "cell_type": "markdown",
   "metadata": {},
   "source": [
    "1. Разбиение каждого утверждения из одного требования разбивать на два элемента: \n",
    "    - предпосылку / фильтр  \n",
    "    - следствие / проверку"
   ]
  },
  {
   "cell_type": "code",
   "execution_count": null,
   "metadata": {},
   "outputs": [],
   "source": [
    "class KSI():\n",
    "    '''\n",
    "    KSI class\n",
    "    '''\n",
    "    def __init__(self, ksi:str, table:str, id, defenition:str):\n",
    "        self.ksi = ksi\n",
    "        self.table = table\n",
    "        self.id = id\n",
    "        self.defenition = defenition\n",
    "\n",
    "    def __str__(self):\n",
    "        return f\"KSI: {self.ksi}, Table: {self.table}, ID: {self.id}\""
   ]
  },
  {
   "cell_type": "code",
   "execution_count": null,
   "metadata": {},
   "outputs": [],
   "source": [
    "class TestedElement():\n",
    "    '''\n",
    "    Element taken from information model with internal parameters\n",
    "    '''\n",
    "    def __init__(self, linked_element, linked_ksi:str):\n",
    "        self.linked_element = linked_element\n",
    "        self.linked_ksi = linked_ksi"
   ]
  },
  {
   "cell_type": "code",
   "execution_count": null,
   "metadata": {},
   "outputs": [],
   "source": [
    "from xml.etree.ElementTree import XML\n",
    "\n",
    "\n",
    "class Rule():\n",
    "    def __init__(self, id_rule, \n",
    "                 id_rule_doc, \n",
    "                 defenition:str,\n",
    "                 logical_schema:XML,\n",
    "                 check_function:function):\n",
    "        self.id_rule = id_rule\n",
    "        self.id_rule_doc = id_rule_doc\n",
    "        self.defenition = defenition\n",
    "        self.logical_schema = logical_schema\n",
    "        self.check_function = check_function\n",
    "\n",
    "    def __str__(self):\n",
    "        return f\"Rule id: {self.id_rule}, Rule id doc: {self.id_rule_doc}\"\n",
    "\n",
    "    def check_rule(self, tested_element:TestedElement):\n",
    "        return self.check_function(tested_element, self.logical_schema)\n",
    "\n"
   ]
  },
  {
   "cell_type": "code",
   "execution_count": null,
   "metadata": {},
   "outputs": [],
   "source": [
    "def check_stairs(element:TestedElement):\n",
    "    '''\n",
    "    Check if stairs are correct\n",
    "    '''\n",
    "    ksi = element.linked_ksi\n",
    "    if ksi.ksi == \"Stairs\":\n",
    "        return True\n",
    "    return False"
   ]
  },
  {
   "cell_type": "code",
   "execution_count": 1,
   "metadata": {},
   "outputs": [],
   "source": [
    "sentence_SP1_13130_5_2_1 = \"Уклон наружных открытых лестниц, используемых для эвакуации, в зданиях детских дошкольных учреждений должен составлять не более 45°. Ширину указанных лестниц допускается выполнять не менее 0,8 м.\"\n",
    "\n",
    "\n",
    "if_oks_sentence_mod0 = \"здание детское дошкольное учреждение\"\n",
    "if_sentence_mod1 = \"лестница эвакуационная открытая наружная\"\n",
    "check_sentence_mod2 = \"уклон лестницы должен быть менее 45 градусов\"\n",
    "check_sentence_mod2 = \"ширина лестницы должен быть менее 0.8 метров\""
   ]
  },
  {
   "cell_type": "code",
   "execution_count": null,
   "metadata": {},
   "outputs": [],
   "source": []
  },
  {
   "cell_type": "code",
   "execution_count": null,
   "metadata": {},
   "outputs": [],
   "source": []
  }
 ],
 "metadata": {
  "kernelspec": {
   "display_name": ".venv",
   "language": "python",
   "name": "python3"
  },
  "language_info": {
   "codemirror_mode": {
    "name": "ipython",
    "version": 3
   },
   "file_extension": ".py",
   "mimetype": "text/x-python",
   "name": "python",
   "nbconvert_exporter": "python",
   "pygments_lexer": "ipython3",
   "version": "3.12.0"
  }
 },
 "nbformat": 4,
 "nbformat_minor": 2
}
