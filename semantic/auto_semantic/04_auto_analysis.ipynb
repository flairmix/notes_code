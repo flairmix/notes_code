{
 "cells": [
  {
   "cell_type": "code",
   "execution_count": 1,
   "metadata": {},
   "outputs": [],
   "source": [
    "import pandas as pd\n",
    "import re\n",
    "\n",
    "pd.set_option(\"display.max_columns\", None)\n",
    "pd.set_option(\"display.width\", 1000)"
   ]
  },
  {
   "cell_type": "code",
   "execution_count": 2,
   "metadata": {},
   "outputs": [],
   "source": [
    "# data_path = \"data\\\\input_SP60.csv\"\n",
    "data_path = \"data\\\\input_SP89.csv\""
   ]
  },
  {
   "cell_type": "code",
   "execution_count": 3,
   "metadata": {},
   "outputs": [
    {
     "name": "stdout",
     "output_type": "stream",
     "text": [
      "Файл успешно обработан и сохранен в processed_data_SP89.csv\n"
     ]
    }
   ],
   "source": [
    "# Пример использования класса CSVProcessor\n",
    "\n",
    "from csv_processor import CSVProcessor  # Импортируем класс из другого файла\n",
    "\n",
    "# Пути к файлам\n",
    "input_file = data_path\n",
    "output_file = \"processed_data_SP89.csv\"\n",
    "\n",
    "# Создаем экземпляр класса\n",
    "processor = CSVProcessor(input_file, output_file)\n",
    "\n",
    "# Запускаем обработку данных\n",
    "processor.process_data()\n",
    "\n",
    "print(\"Файл успешно обработан и сохранен в\", output_file)\n"
   ]
  },
  {
   "cell_type": "code",
   "execution_count": 4,
   "metadata": {},
   "outputs": [
    {
     "name": "stdout",
     "output_type": "stream",
     "text": [
      "ID\n",
      "Содержание\n",
      "Дата ввода требования в действие\n",
      "Реестр НТД\n",
      "Требование безопасности\n",
      "ЮИН\n",
      "Обрабатывается в ЦИМ\n",
      "Подлежит переводу в МПФ\n",
      "Передано подрядчику\n",
      "Комментарии\n",
      "Наличие ссылок на другие НД, в которых содержатся требования\n",
      "Наличие ссылок на Задание на проектирование\n",
      "Наличие ссылок на другие пункы этого СП\n",
      "Наличие формул\n",
      "Упоминание расчетов\n",
      "Наличие таблиц\n",
      "Наличие рисунков/диаграмм\n",
      "Требование носит рекомендательный характер\n"
     ]
    }
   ],
   "source": [
    "columns = processor.df.columns\n",
    "\n",
    "for i in columns:\n",
    "    print(i)"
   ]
  },
  {
   "cell_type": "code",
   "execution_count": 5,
   "metadata": {},
   "outputs": [
    {
     "name": "stdout",
     "output_type": "stream",
     "text": [
      "Наличие ссылок на другие НД, в которых содержатся требования 240 шт.\n",
      "Наличие ссылок на Задание на проектирование 28 шт.\n",
      "Наличие ссылок на другие пункы этого СП 7 шт.\n",
      "Упоминание расчетов 17 шт.\n",
      "Комментарии 303 шт.\n"
     ]
    }
   ],
   "source": [
    "print(f\"Наличие ссылок на другие НД, в которых содержатся требования {processor.df.loc[processor.df[\"Наличие ссылок на другие НД, в которых содержатся требования\"] == 1][\"Содержание\"].count()} шт.\" )\n",
    "print(f\"Наличие ссылок на Задание на проектирование {processor.df.loc[processor.df[\"Наличие ссылок на Задание на проектирование\"] == 1][\"Содержание\"].count()} шт.\" )\n",
    "print(f\"Наличие ссылок на другие пункы этого СП {processor.df.loc[processor.df[\"Наличие ссылок на другие пункы этого СП\"] == 1][\"Содержание\"].count()} шт.\" )\n",
    "print(f\"Упоминание расчетов {processor.df.loc[processor.df[\"Упоминание расчетов\"] == 1][\"Содержание\"].count()} шт.\" )\n",
    "print(f\"Комментарии {processor.df.loc[processor.df[\"Комментарии\"] != \"\"][\"Содержание\"].count()} шт.\" )"
   ]
  },
  {
   "cell_type": "code",
   "execution_count": 6,
   "metadata": {},
   "outputs": [
    {
     "name": "stdout",
     "output_type": "stream",
     "text": [
      "Empty DataFrame\n",
      "Columns: [ID, Содержание, Дата ввода требования в действие, Реестр НТД, Требование безопасности, ЮИН, Обрабатывается в ЦИМ, Подлежит переводу в МПФ, Передано подрядчику, Комментарии, Наличие ссылок на другие НД, в которых содержатся требования, Наличие ссылок на Задание на проектирование, Наличие ссылок на другие пункы этого СП, Наличие формул, Упоминание расчетов, Наличие таблиц, Наличие рисунков/диаграмм, Требование носит рекомендательный характер]\n",
      "Index: []\n"
     ]
    }
   ],
   "source": [
    "print(processor.df.loc[processor.df[\"Комментарии\"] == 1].head())"
   ]
  },
  {
   "cell_type": "code",
   "execution_count": 7,
   "metadata": {},
   "outputs": [
    {
     "name": "stdout",
     "output_type": "stream",
     "text": [
      "Содержание - <p>6.12 Ворота помещения котельной, через которые осуществляется подача топлива и удаление золы и шлака, должны иметь тамбур или воздушную тепловую завесу в соответствии с СП60.13330. Размеры тамбура должны обеспечивать безопасность и удобство обслуживания при подаче топлива или удалении золы и шлака.</p>\n",
      "Комментарии - Наличие ссылок на другие НД, в которых содержатся требования\n",
      "\n",
      "Наличие ссылок на другие НД, в которых содержатся требования - 1\n",
      "Наличие ссылок на Задание на проектирование - 0\n",
      "Наличие ссылок на другие пункы этого СП - 0\n"
     ]
    }
   ],
   "source": [
    "row = 45\n",
    "\n",
    "print(f\"Содержание - {processor.df[\"Содержание\"][row]}\")\n",
    "print(f\"Комментарии - {processor.df[\"Комментарии\"][row]}\")\n",
    "\n",
    "print(f\"Наличие ссылок на другие НД, в которых содержатся требования - {processor.df[\"Наличие ссылок на другие НД, в которых содержатся требования\"][row]}\")\n",
    "print(f\"Наличие ссылок на Задание на проектирование - {processor.df[\"Наличие ссылок на Задание на проектирование\"][row]}\")\n",
    "print(f\"Наличие ссылок на другие пункы этого СП - {processor.df[\"Наличие ссылок на другие пункы этого СП\"][row]}\")"
   ]
  }
 ],
 "metadata": {
  "kernelspec": {
   "display_name": ".venv",
   "language": "python",
   "name": "python3"
  },
  "language_info": {
   "codemirror_mode": {
    "name": "ipython",
    "version": 3
   },
   "file_extension": ".py",
   "mimetype": "text/x-python",
   "name": "python",
   "nbconvert_exporter": "python",
   "pygments_lexer": "ipython3",
   "version": "3.12.9"
  }
 },
 "nbformat": 4,
 "nbformat_minor": 2
}
